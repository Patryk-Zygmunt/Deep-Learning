{
 "cells": [
  {
   "cell_type": "code",
   "execution_count": 1,
   "metadata": {},
   "outputs": [],
   "source": [
    "# korekta błędu w Keras po zmianie w bibliotece numpy\n",
    "import numpy as np\n",
    "np_load_old = np.load\n",
    "np.load = lambda *a, **k: np_load_old(*a, allow_pickle=True, **k)\n",
    "\n",
    "# wyłączenie ostrzeżeń\n",
    "import warnings\n",
    "import tensorflow as tf\n",
    "warnings.filterwarnings('ignore')\n",
    "\n",
    "import os\n",
    "os.environ['TF_CPP_MIN_LOG_LEVEL'] = '3'\n",
    "tf.compat.v1.logging.set_verbosity(tf.compat.v1.logging.ERROR)"
   ]
  },
  {
   "cell_type": "code",
   "execution_count": 2,
   "metadata": {
    "scrolled": true
   },
   "outputs": [
    {
     "name": "stderr",
     "output_type": "stream",
     "text": [
      "Using TensorFlow backend.\n"
     ]
    },
    {
     "data": {
      "text/plain": [
       "'2.2.4'"
      ]
     },
     "execution_count": 2,
     "metadata": {},
     "output_type": "execute_result"
    }
   ],
   "source": [
    "import keras\n",
    "keras.__version__"
   ]
  },
  {
   "cell_type": "markdown",
   "metadata": {},
   "source": [
    "# Nadmierne dopasowanie i zbyt słabe dopasowanie\n",
    "\n",
    "We wszystkich trzech zaprezentowanych wcześniej przykładach — przewidywaniu oceny filmu, klasyfikacji tematycznej i regresji ceny mieszkań — wydajność modelu podczas przetwarzania odłożonego na bok walidacyjnego zbioru danych zawsze po kilku epokach osiągała wartość szczytową, a następnie ulegała degradacji — modele zaczynały ulegać nadmiernemu dopasowaniu do danych treningowych. Do nadmiernego dopasowania może dojść podczas pracy nad dowolnym problemem uczenia maszynowego. Pracując z algorytmami uczenia maszynowego, musimy wiedzieć, jak radzić sobie z tym problemem.\n",
    "\n",
    "Podstawowym problemem uczenia maszynowego jest kompromis między optymalizacją a uogólnianiem. Optymalizacja jest procesem dostrajania modelu w celu uzyskania najlepszej możliwej wydajności na danych treningowych (jest to proces uczenia, od którego wzięła się nazwa uczenie maszynowe), a uogólnianie odwołuje się do tego, jak dobrze wytrenowany model sprawdza się podczas przetwarzania danych, których nigdy nie widział. Oczywiście chcemy uzyskać jak najlepszą zdolność modelu do uogólniania, ale nie mamy na to wpływu w sposób bezpośredni, ponieważ model możemy modyfikować tylko na danych treningowych.\n",
    "\n",
    "Na początku trenowania optymalizacja i uogólnianie są ze sobą skorelowane — im mniejsza strata na danych treningowych, tym mniejsza strata na danych testowych. Gdy taka sytuacja ma miejsce, mamy do czynienia ze zbyt słabym dopasowaniem — model może zostać lepiej dopasowany, ponieważ sieć nie dokonała jeszcze modelowania wszystkich wzorców znajdujących się w danych treningowych, ale po pewnej liczbie iteracji algorytmu przetwarzającego dane treningowe uogólnianie przestaje ulegać poprawie, a metryka walidacji przyjmuje wartość stałą lub pogarsza się — wówczas model zaczyna dopasowywać się nadmiernie, a więc zaczyna uczyć się wzorców, które są specyficzne dla danych treningowych i wprowadzają w błąd lub są nieprzydatne podczas przetwarzania nowych danych.\n",
    "\n",
    "Aby zapobiec uczeniu się przez model błędnych lub zbędnych wzorców treningowego zbioru danych, najlepiej jest zebrać więcej danych treningowych. To dość oczywiste, że model trenowany na większej liczbie obserwacji będzie zdolny do lepszego uogólniania. Jeśli takie rozwiązanie nie jest możliwe, możemy modulować ilość informacji, które model może przechowywać, lub dodać ograniczenia co do możliwości przechowywania informacji przez model. Jeżeli sieć może zapamiętać tylko niewielką liczbę wzorców, to proces optymalizacji wymusi skupienie się na najważniejszych wzorcach, które najprawdopodobniej lepiej sprawdzą się przy uogólnianiu.\n",
    "\n",
    "Proces walki z nadmiernym dopasowaniem określamy mianem regularyzacji. Chciałbym opisać najpopularniejsze techniki regularyzacji i zastosować je w praktyce w celu poprawy działania modelu klasyfikacji filmów opisanego w podrozdziale 3.4.\n"
   ]
  },
  {
   "cell_type": "markdown",
   "metadata": {},
   "source": [
    "Uwaga: W charakterze zbioru walidacyjnego będziemy krozystać ze zbioru testowego IMDB. W tym przypadku nie jest to żadnym problemem.\n",
    "\n",
    "Przygotujmy dane do analizy korzystając z kodu przedstawionego w sekcji 3.5.:"
   ]
  },
  {
   "cell_type": "code",
   "execution_count": 3,
   "metadata": {},
   "outputs": [],
   "source": [
    "from keras.datasets import imdb\n",
    "import numpy as np\n",
    "\n",
    "(train_data, train_labels), (test_data, test_labels) = imdb.load_data(num_words=10000)\n",
    "\n",
    "def vectorize_sequences(sequences, dimension=10000):\n",
    "    # Create an all-zero matrix of shape (len(sequences), dimension)\n",
    "    results = np.zeros((len(sequences), dimension))\n",
    "    for i, sequence in enumerate(sequences):\n",
    "        results[i, sequence] = 1.  # set specific indices of results[i] to 1s\n",
    "    return results\n",
    "\n",
    "# Zbiór treningowy w postaci wektora.\n",
    "x_train = vectorize_sequences(train_data)\n",
    "# Zbiór testowy w postaci wektora.\n",
    "x_test = vectorize_sequences(test_data)\n",
    "# Etykiety w postaci wektorów.\n",
    "y_train = np.asarray(train_labels).astype('float32')\n",
    "y_test = np.asarray(test_labels).astype('float32')"
   ]
  },
  {
   "cell_type": "markdown",
   "metadata": {},
   "source": [
    "# Zmniejszanie nadmiernego dopasowania\n",
    "\n",
    "## Redukcja rozmiaru sieci\n",
    "\n",
    "\n",
    "Najprostszym sposobem zapobiegania powstawaniu nadmiernego dopasowania jest zmniejszenie rozmiaru modelu: zmniejszenie liczby uczonych parametrów, na którą wpływa liczba warstw i liczba jednostek je tworzących. W uczeniu głębokim uczone parametry modelu często określa się mianem pojemności modelu. Model dysponujący większą liczbą parametrów charakteryzuje się większą pojemnością pamięci, a więc może łatwiej uczyć się doskonałego mapowania danych przypominającego swym działaniem słownik. Mapowanie takie nie ma żadnej zdolności uogólniania. Przykładowy model z 500 000 parametrów binarnych mógłby z łatwością nauczyć się klasy każdej cyfry wchodzącej w skład treningowego zbioru danych MNIST: każda z 50 000 cyfr mogłaby zostać opisana przy użyciu zaledwie 10 parametrów binarnych, ale taki model byłby zupełnie nieprzydatny podczas klasyfikacji nowych próbek. Musisz pamiętać o tym, że modele uczenia głębokiego mają tendencję do dopasowywania się do danych treningowych, ale Twoim celem jest osiągnięcie modelu zdolnego do jak najlepszych uogólnień, a nie modelu maksymalnie dopasowanego do danych treningowych.\n",
    "\n",
    "Jeżeli sieć dysponuje zbyt małą zdolnością zapamiętywania, to nie będzie w stanie tak łatwo nauczyć się bezpośredniego mapowania, a więc w celu minimalizacji strat będzie musiała uczyć się skompresowanych reprezentacji, co pozwoli modelowi nabyć umiejętności przewidywania, a o to nam właśnie chodzi. Jednocześnie należy pamiętać o tym, że modele powinny mieć na tyle dużo parametrów, aby nie ulec zbyt słabemu dopasowaniu — model nie powinien cierpieć z powodu braku możliwości zapamiętywania kolejnych cech. Trzeba znaleźć kompromis między zbyt dużą pojemnością a zbyt małą pojemnością.\n",
    "\n",
    "Niestety nie ma żadnego magicznego wzoru umożliwiającego określenie właściwej liczby warstw i odpowiednich rozmiarów poszczególnych warstw. W celu znalezienia modelu optymalnego z punktu widzenia analizowanych danych należy sprawdzić działanie zestawu różnych architektur (oczywiście trzeba to robić na zbiorze walidacyjnym, a nie testowym). Szukanie odpowiedniego modelu należy zacząć od niewielkiej liczby warstw i parametrów, a następnie zwiększać rozmiary istniejących warstw i stopniowo dodawać nowe, obserwując spadek wartości straty określanej w procesie walidacji.\n",
    "\n",
    "Spróbujmy zastosować to rozwiązanie w kontekście sieci klasyfikującej recenzje filmów. Oto kod oryginalnej sieci:\n"
   ]
  },
  {
   "cell_type": "code",
   "execution_count": 4,
   "metadata": {},
   "outputs": [],
   "source": [
    "from keras import models\n",
    "from keras import layers\n",
    "\n",
    "original_model = models.Sequential()\n",
    "original_model.add(layers.Dense(16, activation='relu', input_shape=(10000,)))\n",
    "original_model.add(layers.Dense(16, activation='relu'))\n",
    "original_model.add(layers.Dense(1, activation='sigmoid'))\n",
    "\n",
    "original_model.compile(optimizer='rmsprop',\n",
    "                       loss='binary_crossentropy',\n",
    "                       metrics=['acc'])"
   ]
  },
  {
   "cell_type": "markdown",
   "metadata": {},
   "source": [
    "Spróbujmy zastąpić ten model prostszą siecią neuronową:"
   ]
  },
  {
   "cell_type": "code",
   "execution_count": 5,
   "metadata": {},
   "outputs": [],
   "source": [
    "smaller_model = models.Sequential()\n",
    "smaller_model.add(layers.Dense(4, activation='relu', input_shape=(10000,)))\n",
    "smaller_model.add(layers.Dense(4, activation='relu'))\n",
    "smaller_model.add(layers.Dense(1, activation='sigmoid'))\n",
    "\n",
    "smaller_model.compile(optimizer='rmsprop',\n",
    "                      loss='binary_crossentropy',\n",
    "                      metrics=['acc'])"
   ]
  },
  {
   "cell_type": "markdown",
   "metadata": {},
   "source": [
    "\n",
    "Oto porównanie straty walidacji oryginalnej sieci i mniejszej sieci. Kropkami oznaczono wartości straty walidacji mniejszej sieci, a krzyżykami oznaczono wartości straty oryginalnej sieci (przypominam, że mniejsza wartość straty walidacji świadczy o tym, że model jest lepszy)."
   ]
  },
  {
   "cell_type": "code",
   "execution_count": 6,
   "metadata": {},
   "outputs": [
    {
     "name": "stdout",
     "output_type": "stream",
     "text": [
      "Train on 25000 samples, validate on 25000 samples\n",
      "Epoch 1/20\n",
      "25000/25000 [==============================] - 6s 232us/step - loss: 0.4440 - acc: 0.8251 - val_loss: 0.3286 - val_acc: 0.8835\n",
      "Epoch 2/20\n",
      "25000/25000 [==============================] - 4s 175us/step - loss: 0.2573 - acc: 0.9078 - val_loss: 0.2864 - val_acc: 0.8882\n",
      "Epoch 3/20\n",
      "25000/25000 [==============================] - 4s 175us/step - loss: 0.1991 - acc: 0.9292 - val_loss: 0.2821 - val_acc: 0.8891\n",
      "Epoch 4/20\n",
      "25000/25000 [==============================] - 4s 175us/step - loss: 0.1666 - acc: 0.9412 - val_loss: 0.2939 - val_acc: 0.8844\n",
      "Epoch 5/20\n",
      "25000/25000 [==============================] - 4s 175us/step - loss: 0.1435 - acc: 0.9501 - val_loss: 0.3116 - val_acc: 0.8804\n",
      "Epoch 6/20\n",
      "25000/25000 [==============================] - 4s 175us/step - loss: 0.1257 - acc: 0.9558 - val_loss: 0.3483 - val_acc: 0.8721\n",
      "Epoch 7/20\n",
      "25000/25000 [==============================] - 4s 175us/step - loss: 0.1104 - acc: 0.9615 - val_loss: 0.3598 - val_acc: 0.8722\n",
      "Epoch 8/20\n",
      "25000/25000 [==============================] - 4s 176us/step - loss: 0.0977 - acc: 0.9669 - val_loss: 0.3975 - val_acc: 0.8662\n",
      "Epoch 9/20\n",
      "25000/25000 [==============================] - 5s 180us/step - loss: 0.0841 - acc: 0.9721 - val_loss: 0.4339 - val_acc: 0.8611\n",
      "Epoch 10/20\n",
      "25000/25000 [==============================] - 5s 183us/step - loss: 0.0755 - acc: 0.9757 - val_loss: 0.4997 - val_acc: 0.8524\n",
      "Epoch 11/20\n",
      "25000/25000 [==============================] - 5s 180us/step - loss: 0.0684 - acc: 0.9778 - val_loss: 0.4871 - val_acc: 0.8587\n",
      "Epoch 12/20\n",
      "25000/25000 [==============================] - 5s 181us/step - loss: 0.0563 - acc: 0.9831 - val_loss: 0.5220 - val_acc: 0.8557\n",
      "Epoch 13/20\n",
      "25000/25000 [==============================] - 4s 177us/step - loss: 0.0513 - acc: 0.9843 - val_loss: 0.5351 - val_acc: 0.8579\n",
      "Epoch 14/20\n",
      "25000/25000 [==============================] - 4s 177us/step - loss: 0.0423 - acc: 0.9881 - val_loss: 0.6093 - val_acc: 0.8501\n",
      "Epoch 15/20\n",
      "25000/25000 [==============================] - 4s 177us/step - loss: 0.0363 - acc: 0.9894 - val_loss: 0.6115 - val_acc: 0.8558\n",
      "Epoch 16/20\n",
      "25000/25000 [==============================] - 4s 177us/step - loss: 0.0310 - acc: 0.9909 - val_loss: 0.6426 - val_acc: 0.8536\n",
      "Epoch 17/20\n",
      "25000/25000 [==============================] - 4s 176us/step - loss: 0.0265 - acc: 0.9926 - val_loss: 0.7693 - val_acc: 0.8417\n",
      "Epoch 18/20\n",
      "25000/25000 [==============================] - 4s 177us/step - loss: 0.0208 - acc: 0.9946 - val_loss: 0.7220 - val_acc: 0.8516\n",
      "Epoch 19/20\n",
      "25000/25000 [==============================] - 4s 177us/step - loss: 0.0198 - acc: 0.9949 - val_loss: 0.7739 - val_acc: 0.8476\n",
      "Epoch 20/20\n",
      "25000/25000 [==============================] - 4s 179us/step - loss: 0.0151 - acc: 0.9965 - val_loss: 0.9724 - val_acc: 0.8298\n"
     ]
    }
   ],
   "source": [
    "original_hist = original_model.fit(x_train, y_train,\n",
    "                                   epochs=20,\n",
    "                                   batch_size=512,\n",
    "                                   validation_data=(x_test, y_test))"
   ]
  },
  {
   "cell_type": "code",
   "execution_count": 7,
   "metadata": {},
   "outputs": [
    {
     "name": "stdout",
     "output_type": "stream",
     "text": [
      "Train on 25000 samples, validate on 25000 samples\n",
      "Epoch 1/20\n",
      "25000/25000 [==============================] - 5s 180us/step - loss: 0.5804 - acc: 0.7027 - val_loss: 0.5309 - val_acc: 0.7558\n",
      "Epoch 2/20\n",
      "25000/25000 [==============================] - 4s 173us/step - loss: 0.4843 - acc: 0.8455 - val_loss: 0.4876 - val_acc: 0.8280\n",
      "Epoch 3/20\n",
      "25000/25000 [==============================] - 4s 173us/step - loss: 0.4389 - acc: 0.8920 - val_loss: 0.4663 - val_acc: 0.8497\n",
      "Epoch 4/20\n",
      "25000/25000 [==============================] - 4s 174us/step - loss: 0.4077 - acc: 0.9154 - val_loss: 0.4526 - val_acc: 0.8663\n",
      "Epoch 5/20\n",
      "25000/25000 [==============================] - 4s 173us/step - loss: 0.3832 - acc: 0.9306 - val_loss: 0.4513 - val_acc: 0.8620\n",
      "Epoch 6/20\n",
      "25000/25000 [==============================] - 4s 173us/step - loss: 0.3620 - acc: 0.9415 - val_loss: 0.4424 - val_acc: 0.8728\n",
      "Epoch 7/20\n",
      "25000/25000 [==============================] - 4s 173us/step - loss: 0.3425 - acc: 0.9515 - val_loss: 0.4489 - val_acc: 0.8671\n",
      "Epoch 8/20\n",
      "25000/25000 [==============================] - 4s 173us/step - loss: 0.3261 - acc: 0.9560 - val_loss: 0.4515 - val_acc: 0.8675\n",
      "Epoch 9/20\n",
      "25000/25000 [==============================] - 4s 174us/step - loss: 0.3099 - acc: 0.9613 - val_loss: 0.4687 - val_acc: 0.8626\n",
      "Epoch 10/20\n",
      "25000/25000 [==============================] - 4s 173us/step - loss: 0.2961 - acc: 0.9649 - val_loss: 0.4632 - val_acc: 0.8649\n",
      "Epoch 11/20\n",
      "25000/25000 [==============================] - 4s 176us/step - loss: 0.2815 - acc: 0.9692 - val_loss: 0.4840 - val_acc: 0.8606\n",
      "Epoch 12/20\n",
      "25000/25000 [==============================] - 4s 176us/step - loss: 0.2684 - acc: 0.9718 - val_loss: 0.4873 - val_acc: 0.8626\n",
      "Epoch 13/20\n",
      "25000/25000 [==============================] - 4s 174us/step - loss: 0.2562 - acc: 0.9753 - val_loss: 0.5214 - val_acc: 0.8574\n",
      "Epoch 14/20\n",
      "25000/25000 [==============================] - 4s 174us/step - loss: 0.2454 - acc: 0.9760 - val_loss: 0.5507 - val_acc: 0.8540\n",
      "Epoch 15/20\n",
      "25000/25000 [==============================] - 4s 173us/step - loss: 0.2340 - acc: 0.9782 - val_loss: 0.5378 - val_acc: 0.8586\n",
      "Epoch 16/20\n",
      "25000/25000 [==============================] - 4s 175us/step - loss: 0.2235 - acc: 0.9802 - val_loss: 0.5300 - val_acc: 0.8582\n",
      "Epoch 17/20\n",
      "25000/25000 [==============================] - 4s 174us/step - loss: 0.2149 - acc: 0.9811 - val_loss: 0.5766 - val_acc: 0.8550\n",
      "Epoch 18/20\n",
      "25000/25000 [==============================] - 4s 174us/step - loss: 0.2052 - acc: 0.9822 - val_loss: 0.5430 - val_acc: 0.8571\n",
      "Epoch 19/20\n",
      "25000/25000 [==============================] - 4s 174us/step - loss: 0.1965 - acc: 0.9830 - val_loss: 0.6402 - val_acc: 0.8494\n",
      "Epoch 20/20\n",
      "25000/25000 [==============================] - 4s 174us/step - loss: 0.1888 - acc: 0.9837 - val_loss: 0.7072 - val_acc: 0.8467\n"
     ]
    }
   ],
   "source": [
    "smaller_model_hist = smaller_model.fit(x_train, y_train,\n",
    "                                       epochs=20,\n",
    "                                       batch_size=512,\n",
    "                                       validation_data=(x_test, y_test))"
   ]
  },
  {
   "cell_type": "code",
   "execution_count": 14,
   "metadata": {},
   "outputs": [],
   "source": [
    "epochs = range(1, 21)\n",
    "original_val_loss = original_hist.history['val_acc']\n",
    "smaller_model_val_loss = smaller_model_hist.history['val_acc']"
   ]
  },
  {
   "cell_type": "code",
   "execution_count": 15,
   "metadata": {
    "scrolled": true
   },
   "outputs": [
    {
     "data": {
      "image/png": "[encoded data removed]",
      "text/plain": [
       "<Figure size 432x288 with 1 Axes>"
      ]
     },
     "metadata": {
      "needs_background": "light"
     },
     "output_type": "display_data"
    }
   ],
   "source": [
    "import matplotlib.pyplot as plt\n",
    "\n",
    "# b+ to niebieskie krzyżyki\n",
    "plt.plot(epochs, original_val_loss, 'b+', label='Oryginalny model')\n",
    "# bo to niebieskie kropki\n",
    "plt.plot(epochs, smaller_model_val_loss, 'bo', label='Mniejszy model')\n",
    "plt.xlabel('Epoki')\n",
    "plt.ylabel('Strata walidacji')\n",
    "plt.legend()\n",
    "\n",
    "plt.show()"
   ]
  },
  {
   "cell_type": "code",
   "execution_count": 11,
   "metadata": {},
   "outputs": [
    {
     "data": {
      "image/png": "[encoded data removed]",
      "text/plain": [
       "<IPython.core.display.Image object>"
      ]
     },
     "execution_count": 11,
     "metadata": {},
     "output_type": "execute_result"
    }
   ],
   "source": [
    "from IPython.display import Image\n",
    "keras.utils.plot_model(original_model, show_shapes=True, to_file = 'model.png')\n",
    "Image('model.png')"
   ]
  },
  {
   "cell_type": "markdown",
   "metadata": {},
   "source": [
    "\n",
    "Jak widać, mniejsza sieć zaczęła ulegać nadmiernemu dopasowaniu (przeuczeniu) później niż nasz początkowy model (po sześciu, a nie po czterech epokach), a dodatkowo po przekroczeniu punktu przeuczenia wydajność mniejszego modelu ulega wolniejszej degradacji.\n",
    "\n",
    "Spróbujmy przeanalizować w tym kontekście działanie sieci o znacznie większej pojemności (przekraczającej potrzeby problemu)."
   ]
  },
  {
   "cell_type": "code",
   "execution_count": 16,
   "metadata": {},
   "outputs": [],
   "source": [
    "bigger_model = models.Sequential()\n",
    "bigger_model.add(layers.Dense(512, activation='relu', input_shape=(10000,)))\n",
    "bigger_model.add(layers.Dense(512, activation='relu'))\n",
    "bigger_model.add(layers.Dense(1, activation='sigmoid'))\n",
    "\n",
    "bigger_model.compile(optimizer='rmsprop',\n",
    "                     loss='binary_crossentropy',\n",
    "                     metrics=['acc'])"
   ]
  },
  {
   "cell_type": "markdown",
   "metadata": {},
   "source": [
    "Oto rysnek, na którym porównano wydajność zbyt dużej sieci i naszego początkowego modelu. Kropkami oznaczono stratę walidacji większej sieci, a krzyżykami oznaczono stratę walidacji początkowej wersji sieci."
   ]
  },
  {
   "cell_type": "code",
   "execution_count": 20,
   "metadata": {
    "scrolled": true
   },
   "outputs": [
    {
     "data": {
      "image/png": "[encoded data removed]",
      "text/plain": [
       "<Figure size 432x288 with 1 Axes>"
      ]
     },
     "metadata": {
      "needs_background": "light"
     },
     "output_type": "display_data"
    }
   ],
   "source": [
    "bigger_model_val_loss = bigger_model_hist.history['val_loss']\n",
    "\n",
    "plt.plot(epochs, original_val_loss, 'b+', label='Oryginalny model')\n",
    "plt.plot(epochs, bigger_model_val_loss, 'bo', label='Wiekszy model')\n",
    "plt.xlabel('Epoki')\n",
    "plt.ylabel('Strata walidacji')\n",
    "plt.legend()\n",
    "\n",
    "plt.show()"
   ]
  },
  {
   "cell_type": "markdown",
   "metadata": {},
   "source": [
    "\n",
    "porównano wydajność zbyt dużej sieci i naszego początkowego modelu. Kropkami oznaczono stratę walidacji większej sieci, a krzyżykami oznaczono stratę walidacji początkowej wersji sieci.\n",
    "\n",
    "Oto rysunek, na którym porównano straty procesu trenowania dwóch sieci.\n"
   ]
  },
  {
   "cell_type": "code",
   "execution_count": 18,
   "metadata": {},
   "outputs": [
    {
     "name": "stdout",
     "output_type": "stream",
     "text": [
      "Train on 25000 samples, validate on 25000 samples\n",
      "Epoch 1/20\n",
      "25000/25000 [==============================] - 12s 481us/step - loss: 0.4635 - acc: 0.7948 - val_loss: 0.2867 - val_acc: 0.8885\n",
      "Epoch 2/20\n",
      "25000/25000 [==============================] - 12s 460us/step - loss: 0.2238 - acc: 0.9131 - val_loss: 0.3289 - val_acc: 0.8633\n",
      "Epoch 3/20\n",
      "25000/25000 [==============================] - 12s 461us/step - loss: 0.1357 - acc: 0.9493 - val_loss: 0.3249 - val_acc: 0.8795\n",
      "Epoch 4/20\n",
      "25000/25000 [==============================] - 12s 467us/step - loss: 0.0770 - acc: 0.9760 - val_loss: 0.3258 - val_acc: 0.8810\n",
      "Epoch 5/20\n",
      "25000/25000 [==============================] - 12s 460us/step - loss: 0.0090 - acc: 0.9985 - val_loss: 1.1227 - val_acc: 0.8069\n",
      "Epoch 6/20\n",
      "25000/25000 [==============================] - 12s 467us/step - loss: 0.0694 - acc: 0.9871 - val_loss: 0.6184 - val_acc: 0.8790\n",
      "Epoch 7/20\n",
      "25000/25000 [==============================] - 12s 460us/step - loss: 0.0776 - acc: 0.9896 - val_loss: 0.6294 - val_acc: 0.8693\n",
      "Epoch 8/20\n",
      "25000/25000 [==============================] - 12s 460us/step - loss: 4.9210e-04 - acc: 1.0000 - val_loss: 0.7011 - val_acc: 0.8805\n",
      "Epoch 9/20\n",
      "25000/25000 [==============================] - 12s 461us/step - loss: 7.3652e-05 - acc: 1.0000 - val_loss: 0.8253 - val_acc: 0.8786\n",
      "Epoch 10/20\n",
      "25000/25000 [==============================] - 12s 462us/step - loss: 1.0166e-05 - acc: 1.0000 - val_loss: 0.9046 - val_acc: 0.8793\n",
      "Epoch 11/20\n",
      "25000/25000 [==============================] - 12s 466us/step - loss: 0.1120 - acc: 0.9889 - val_loss: 0.7859 - val_acc: 0.8777\n",
      "Epoch 12/20\n",
      "25000/25000 [==============================] - 12s 461us/step - loss: 0.0010 - acc: 0.9998 - val_loss: 0.7245 - val_acc: 0.8759\n",
      "Epoch 13/20\n",
      "25000/25000 [==============================] - 12s 461us/step - loss: 2.2473e-05 - acc: 1.0000 - val_loss: 0.8196 - val_acc: 0.8792\n",
      "Epoch 14/20\n",
      "25000/25000 [==============================] - 12s 461us/step - loss: 0.0573 - acc: 0.9944 - val_loss: 2.1933 - val_acc: 0.7669\n",
      "Epoch 15/20\n",
      "25000/25000 [==============================] - 12s 467us/step - loss: 0.0066 - acc: 0.9988 - val_loss: 0.8447 - val_acc: 0.8782\n",
      "Epoch 16/20\n",
      "25000/25000 [==============================] - 12s 465us/step - loss: 3.4438e-06 - acc: 1.0000 - val_loss: 0.8757 - val_acc: 0.8786\n",
      "Epoch 17/20\n",
      "25000/25000 [==============================] - 12s 460us/step - loss: 1.4060e-06 - acc: 1.0000 - val_loss: 0.9310 - val_acc: 0.8792\n",
      "Epoch 18/20\n",
      "25000/25000 [==============================] - 12s 464us/step - loss: 4.9519e-07 - acc: 1.0000 - val_loss: 0.9884 - val_acc: 0.8788\n",
      "Epoch 19/20\n",
      "25000/25000 [==============================] - 12s 476us/step - loss: 2.0427e-07 - acc: 1.0000 - val_loss: 1.0436 - val_acc: 0.8784\n",
      "Epoch 20/20\n",
      "25000/25000 [==============================] - 12s 461us/step - loss: 1.3309e-07 - acc: 1.0000 - val_loss: 1.0721 - val_acc: 0.8789\n"
     ]
    }
   ],
   "source": [
    "bigger_model_hist = bigger_model.fit(x_train, y_train,\n",
    "                                     epochs=20,\n",
    "                                     batch_size=512,\n",
    "                                     validation_data=(x_test, y_test))"
   ]
  },
  {
   "cell_type": "code",
   "execution_count": 19,
   "metadata": {
    "scrolled": true
   },
   "outputs": [
    {
     "data": {
      "image/png": "[encoded data removed]",
      "text/plain": [
       "<Figure size 432x288 with 1 Axes>"
      ]
     },
     "metadata": {
      "needs_background": "light"
     },
     "output_type": "display_data"
    }
   ],
   "source": [
    "original_train_loss = original_hist.history['loss']\n",
    "bigger_model_train_loss = bigger_model_hist.history['loss']\n",
    "\n",
    "plt.plot(epochs, original_train_loss, 'b+', label='Oryginalny model')\n",
    "plt.plot(epochs, bigger_model_train_loss, 'bo', label='Wiekszy model')\n",
    "plt.xlabel('Epoki')\n",
    "plt.ylabel('Strata treninogwa')\n",
    "plt.legend()\n",
    "\n",
    "plt.show()"
   ]
  },
  {
   "cell_type": "markdown",
   "metadata": {},
   "source": [
    "Widać, że większa sieć bardzo szybko uzyskuje praktycznie zerową wartość straty treningowej. Im większa jest pojemność sieci, tym szybciej modelowane są dane treningowe (uzyskiwana jest niska wartość straty treningowej), ale wzrasta wówczas podatność na nadmierne dopasowanie (powstaje duża różnica między stratą treningową a stratą walidacji)."
   ]
  },
  {
   "cell_type": "markdown",
   "metadata": {},
   "source": [
    "## Dodawanie regularyzacji wag\n",
    "\n",
    "\n",
    "Czy znasz zasadę brzytwy Ockhama? Według niej, jeżeli istnieją dwa wyjaśnienia jakiejś teorii, to najprawdopodobniej poprawnym wyjaśnieniem jest to, które jest prostsze — to, które czyni mniej założeń. Zasada ta sprawdza się również w kontekście modeli sieci neuronowych: jeżeli mamy dane treningowe, architekturę sieci i wiele zbiorów wartości wag (wiele modeli) opisujących dane, to prostsze modele są mniej podatne na nadmierne dopasowanie od tych, które są bardziej złożone.\n",
    "\n",
    "Przyjmijmy, że za prostszy model uważamy model, którego rozkład wartości parametrów charakteryzuje się mniejsza entropią, lub model, który ma mniej parametrów. W związku z tym popularną techniką unikania nadmiernego dopasowania jest wymuszenie na modelu ograniczenia złożoności poprzez przyjmowanie tylko małych wartości wag, co sprawia, że rozkład wartości wag jest bardziej regularny. Zabieg ten określamy mianem regularyzacji wag. Implementuje się go poprzez dodanie do funkcji straty sieci kosztu związanego z dużymi wartościami wag. W praktyce można to zrobić na dwa sposoby:\n",
    "\n",
    "\n",
    "* Regularyzacja L1 — koszt jest dodawany proporcjonalnie do bezwzględnej wartości współczynników wag (normy L1 wag).\n",
    "\n",
    "* Regularyzacja L2 — koszt jest dodawany proporcjonalnie do kwadratu wartości współczynników wag (normy L2 wag). W kontekście sieci neuronowych regularyzacja L2 jest również określana mianem rozkładu wag. Pomimo innej nazwy jest to ten sam proces, który w matematyce określamy jako regularyzacja L2.\n",
    "\n",
    "W pakiecie Keras regularyzację wag dodaje się poprzez przekazanie instancji regularyzatora wagi do warstw sieci za pomocą argumentu w formie słowa kluczowego. Dodajmy regularyzację L2 wag do sieci klasyfikatora recenzji filmów."
   ]
  },
  {
   "cell_type": "code",
   "execution_count": 21,
   "metadata": {},
   "outputs": [],
   "source": [
    "from keras import regularizers\n",
    "\n",
    "l2_model = models.Sequential()\n",
    "l2_model.add(layers.Dense(16, kernel_regularizer=regularizers.l2(0.001),\n",
    "                          activation='relu', input_shape=(10000,)))\n",
    "l2_model.add(layers.Dense(16, kernel_regularizer=regularizers.l2(0.001),\n",
    "                          activation='relu'))\n",
    "l2_model.add(layers.Dense(1, activation='sigmoid'))"
   ]
  },
  {
   "cell_type": "code",
   "execution_count": 22,
   "metadata": {},
   "outputs": [],
   "source": [
    "l2_model.compile(optimizer='rmsprop',\n",
    "                 loss='binary_crossentropy',\n",
    "                 metrics=['acc'])"
   ]
  },
  {
   "cell_type": "markdown",
   "metadata": {},
   "source": [
    "Argument l2(0.001) oznacza, że każdy współczynnik macierzy wag warstwy doda wartość równą 0.001 * weight_coefficient_value (0,001 razy wartość współczynnika wagi) do całkowitej straty sieci. Kara ta jest dodawana tylko podczas trenowania, a więc strata sieci w czasie trenowania będzie o wiele wyższa niż w czasie testowania.\n",
    "\n",
    "Oto wykres, na którym pokazano wpływ kary w postaci regularyzacji L2:"
   ]
  },
  {
   "cell_type": "code",
   "execution_count": 23,
   "metadata": {
    "scrolled": true
   },
   "outputs": [
    {
     "name": "stdout",
     "output_type": "stream",
     "text": [
      "Train on 25000 samples, validate on 25000 samples\n",
      "Epoch 1/20\n",
      "25000/25000 [==============================] - 5s 193us/step - loss: 0.4879 - acc: 0.8152 - val_loss: 0.3895 - val_acc: 0.8656\n",
      "Epoch 2/20\n",
      "25000/25000 [==============================] - 5s 181us/step - loss: 0.3100 - acc: 0.9061 - val_loss: 0.3306 - val_acc: 0.8891\n",
      "Epoch 3/20\n",
      "25000/25000 [==============================] - 4s 180us/step - loss: 0.2657 - acc: 0.9202 - val_loss: 0.3301 - val_acc: 0.8872\n",
      "Epoch 4/20\n",
      "25000/25000 [==============================] - 4s 179us/step - loss: 0.2459 - acc: 0.9286 - val_loss: 0.3413 - val_acc: 0.8821\n",
      "Epoch 5/20\n",
      "25000/25000 [==============================] - 5s 181us/step - loss: 0.2323 - acc: 0.9352 - val_loss: 0.3818 - val_acc: 0.8685\n",
      "Epoch 6/20\n",
      "25000/25000 [==============================] - 4s 180us/step - loss: 0.2237 - acc: 0.9390 - val_loss: 0.3676 - val_acc: 0.8752\n",
      "Epoch 7/20\n",
      "25000/25000 [==============================] - 5s 181us/step - loss: 0.2173 - acc: 0.9409 - val_loss: 0.3748 - val_acc: 0.8735\n",
      "Epoch 8/20\n",
      "25000/25000 [==============================] - 5s 180us/step - loss: 0.2106 - acc: 0.9445 - val_loss: 0.3726 - val_acc: 0.8752\n",
      "Epoch 9/20\n",
      "25000/25000 [==============================] - 4s 180us/step - loss: 0.2045 - acc: 0.9466 - val_loss: 0.3762 - val_acc: 0.8753\n",
      "Epoch 10/20\n",
      "25000/25000 [==============================] - 4s 180us/step - loss: 0.2009 - acc: 0.9500 - val_loss: 0.3822 - val_acc: 0.8748\n",
      "Epoch 11/20\n",
      "25000/25000 [==============================] - 5s 180us/step - loss: 0.1950 - acc: 0.9495 - val_loss: 0.3838 - val_acc: 0.8755\n",
      "Epoch 12/20\n",
      "25000/25000 [==============================] - 5s 180us/step - loss: 0.1922 - acc: 0.9518 - val_loss: 0.3918 - val_acc: 0.8745\n",
      "Epoch 13/20\n",
      "25000/25000 [==============================] - 5s 180us/step - loss: 0.1876 - acc: 0.9548 - val_loss: 0.3972 - val_acc: 0.8734\n",
      "Epoch 14/20\n",
      "25000/25000 [==============================] - 4s 180us/step - loss: 0.1820 - acc: 0.9567 - val_loss: 0.4334 - val_acc: 0.8640\n",
      "Epoch 15/20\n",
      "25000/25000 [==============================] - 4s 180us/step - loss: 0.1816 - acc: 0.9574 - val_loss: 0.4558 - val_acc: 0.8570\n",
      "Epoch 16/20\n",
      "25000/25000 [==============================] - 4s 180us/step - loss: 0.1756 - acc: 0.9600 - val_loss: 0.4482 - val_acc: 0.8645\n",
      "Epoch 17/20\n",
      "25000/25000 [==============================] - 5s 182us/step - loss: 0.1717 - acc: 0.9613 - val_loss: 0.4215 - val_acc: 0.8700\n",
      "Epoch 18/20\n",
      "25000/25000 [==============================] - 5s 182us/step - loss: 0.1684 - acc: 0.9628 - val_loss: 0.4336 - val_acc: 0.8685\n",
      "Epoch 19/20\n",
      "25000/25000 [==============================] - 4s 180us/step - loss: 0.1655 - acc: 0.9632 - val_loss: 0.4466 - val_acc: 0.8639\n",
      "Epoch 20/20\n",
      "25000/25000 [==============================] - 4s 179us/step - loss: 0.1614 - acc: 0.9656 - val_loss: 0.4315 - val_acc: 0.8686\n"
     ]
    }
   ],
   "source": [
    "l2_model_hist = l2_model.fit(x_train, y_train,\n",
    "                             epochs=20,\n",
    "                             batch_size=512,\n",
    "                             validation_data=(x_test, y_test))"
   ]
  },
  {
   "cell_type": "code",
   "execution_count": 24,
   "metadata": {},
   "outputs": [
    {
     "data": {
      "image/png": "[encoded data removed]",
      "text/plain": [
       "<Figure size 432x288 with 1 Axes>"
      ]
     },
     "metadata": {
      "needs_background": "light"
     },
     "output_type": "display_data"
    }
   ],
   "source": [
    "l2_model_val_loss = l2_model_hist.history['val_loss']\n",
    "\n",
    "plt.plot(epochs, original_val_loss, 'b+', label='Oryginalny model')\n",
    "plt.plot(epochs, l2_model_val_loss, 'bo', label='Model z regularyzacja L2')\n",
    "plt.xlabel('Epoki')\n",
    "plt.ylabel('Strata walidacji')\n",
    "plt.legend()\n",
    "\n",
    "plt.show()"
   ]
  },
  {
   "cell_type": "markdown",
   "metadata": {},
   "source": [
    "\n",
    "\n",
    "Jak widać, model z regularyzacją L2 (kropki) stał się o wiele bardziej odporny na nadmierne dopasowanie od modelu referencyjnego (krzyżyki) pomimo tego, że oba modele charakteryzują się identyczną liczbą parametrów.\n",
    "\n",
    "Zamiast regularyzacji L2 możesz korzystać również z innych mechanizmów regularyzacji obsługiwanych przez pakiet Keras."
   ]
  },
  {
   "cell_type": "code",
   "execution_count": null,
   "metadata": {},
   "outputs": [],
   "source": [
    "from keras import regularizers\n",
    "\n",
    "# Regularyzacja L1.\n",
    "regularizers.l1(0.001)\n",
    "\n",
    "# Jednoczesna regularyzacja L1 i L2.\n",
    "regularizers.l1_l2(l1=0.001, l2=0.001)"
   ]
  },
  {
   "cell_type": "markdown",
   "metadata": {},
   "source": [
    "## Porzucanie — technika dropout\n",
    "\n",
    "\n",
    "Porzucanie (ang. droput) jest jedną z najbardziej skutecznych i najpopularniejszych technik regularyzacji sieci neuronowych. Opracował ją Geoff Hinton podczas współpracy ze swoimi studentami na Uniwersytecie w Toronto. Technika ta polega na losowym wybieraniu pewnej liczby cech wyjściowych warstwy podczas trenowania (wartości tych warstw są zastępowane zerami). Załóżmy, że w czasie trenowania warstwa sieci normalnie zwraca wektor [0.2, 0.5, 1.3, 0.8, 1.1]. Po przeprowadzeniu operacji porzucania w wektorze tym (w losowo wybranych miejscach) pojawią się zera i uzyska on np. formę [0, 0.5, 1.3, 0, 1.1]. Ułamek określający część wyzerowanych cech nazywamy współczynnikiem porzucania (ang. dropout rate). Zwykle parametr ten przyjmuje wartość znajdującą się w przedziale od 0,2 do 0,5. Podczas testowania żadne jednostki nie są porzucane — wartości wyjściowe warstwy sieci są skalowane o współczynnik równy współczynnikowi porzucania. Równoważy to aktywność większej liczby jednostek podczas testowania niż trenowania.\n",
    "\n",
    "Przyjrzyjmy się macierzy Numpy zawierającej warstwę wyjściową layer_output o kształcie (rozmiar_wsadu, liczba_cech). W czasie trenowania wyzerowaliśmy losową część wartości tej macierzy:"
   ]
  },
  {
   "cell_type": "code",
   "execution_count": null,
   "metadata": {},
   "outputs": [],
   "source": [
    "# Podczas trenowania porzucane jest 50% jednostek wyjściowych.\n",
    "layer_output *= np.randint(0, high=2, size=layer_output.shape)"
   ]
  },
  {
   "cell_type": "markdown",
   "metadata": {},
   "source": [
    "\n",
    "Podczas testowania skalujemy wartości wyjściowe o współczynnik porzucania. W tym przypadku przeprowadzamy skalowanie o współczynnik 0,5 (wcześniej odrzucaliśmy połowę jednostek):"
   ]
  },
  {
   "cell_type": "code",
   "execution_count": null,
   "metadata": {},
   "outputs": [],
   "source": [
    "# W czasie testowania:\n",
    "layer_output *= 0.5"
   ]
  },
  {
   "cell_type": "markdown",
   "metadata": {},
   "source": [
    "\n",
    "Zauważ, że proces ten można zaimplementować, wykonując obie operacje podczas trenowania i pozostawiając dane wyjściowe bez zmian w czasie testowania. Rozwiązanie takie jest często używane w praktyce (zobacz rysunek 4.8):"
   ]
  },
  {
   "cell_type": "code",
   "execution_count": null,
   "metadata": {},
   "outputs": [],
   "source": [
    "# W czasie trenowania.\n",
    "layer_output *= np.randint(0, high=2, size=layer_output.shape)\n",
    "# Zwróć wuagę na to, że w tym przypadku skalujemy raczej w górę niż w dół.\n",
    "layer_output /= 0.5"
   ]
  },
  {
   "cell_type": "markdown",
   "metadata": {},
   "source": [
    "\n",
    "Technika ta może wydawać się dziwna i chaotyczna. Jak ma pomóc w zmniejszeniu nadmiernego dopasowania? Hinton tworząc ją, inspirował się mechanizmami zapobiegającymi nadużyciom stosowanym przez banki. Stwierdził: „Pewnego dnia, gdy poszedłem do banku, zauważyłem, że osoby w okienkach często zmieniają swoje miejsca; pracownicy banku nie potrafili powiedzieć, dlaczego to robią, ale doszedłem do wniosku, że przy takiej rotacji wyłudzenie pieniędzy z banku wymagałoby współpracy wielu pracowników; wówczas zdałem sobie sprawę, że losowe usuwanie różnych podzbiorów neuronów podczas przetwarzania każdego przykładu zapobiegnie konspiracji i zredukuje nadmierne dopasowanie”. Główną ideą tej techniki jest wprowadzenie szumu do wartości wyjściowych warstwy w celu pozbycia się nieznaczących wzorców (Hinton określił je mianem „konspiracji”) — wprowadzenie szumu zapobiega zapamiętywaniu takich wzorców przez sieć.\n",
    "\n",
    "W pakiecie Keras technikę tę można zastosować przy użyciu warstwy Dropout, którą umieszcza się bezpośrednio za wyjściem znajdującej się wcześniej warstwy:\n"
   ]
  },
  {
   "cell_type": "code",
   "execution_count": null,
   "metadata": {},
   "outputs": [],
   "source": [
    "model.add(layers.Dropout(0.5))"
   ]
  },
  {
   "cell_type": "markdown",
   "metadata": {},
   "source": [
    "Dodajmy dwie warstwy Dropout do sieci IMDB i zobaczmy, czy pomogą one w zredukowaniu nadmiernego dopasowania:"
   ]
  },
  {
   "cell_type": "code",
   "execution_count": 25,
   "metadata": {},
   "outputs": [],
   "source": [
    "dpt_model = models.Sequential()\n",
    "dpt_model.add(layers.Dense(16, activation='relu', input_shape=(10000,)))\n",
    "dpt_model.add(layers.Dropout(0.5))\n",
    "dpt_model.add(layers.Dense(16, activation='relu'))\n",
    "dpt_model.add(layers.Dropout(0.5))\n",
    "dpt_model.add(layers.Dense(1, activation='sigmoid'))\n",
    "\n",
    "dpt_model.compile(optimizer='rmsprop',\n",
    "                  loss='binary_crossentropy',\n",
    "                  metrics=['acc'])"
   ]
  },
  {
   "cell_type": "code",
   "execution_count": null,
   "metadata": {},
   "outputs": [
    {
     "name": "stdout",
     "output_type": "stream",
     "text": [
      "Train on 25000 samples, validate on 25000 samples\n",
      "Epoch 1/20\n",
      "25000/25000 [==============================] - 5s 192us/step - loss: 0.5906 - acc: 0.6839 - val_loss: 0.4324 - val_acc: 0.8620\n",
      "Epoch 2/20\n",
      "25000/25000 [==============================] - 4s 179us/step - loss: 0.4359 - acc: 0.8186 - val_loss: 0.3475 - val_acc: 0.8706\n",
      "Epoch 3/20\n",
      "25000/25000 [==============================] - 4s 179us/step - loss: 0.3469 - acc: 0.8714 - val_loss: 0.2912 - val_acc: 0.8872\n",
      "Epoch 4/20\n",
      "25000/25000 [==============================] - 4s 179us/step - loss: 0.2881 - acc: 0.8983 - val_loss: 0.2765 - val_acc: 0.8884\n",
      "Epoch 5/20\n",
      "25000/25000 [==============================] - 4s 179us/step - loss: 0.2531 - acc: 0.9136 - val_loss: 0.2802 - val_acc: 0.8884\n",
      "Epoch 6/20\n",
      "25000/25000 [==============================] - 4s 179us/step - loss: 0.2218 - acc: 0.9266 - val_loss: 0.2886 - val_acc: 0.8874\n",
      "Epoch 7/20\n",
      "25000/25000 [==============================] - 4s 179us/step - loss: 0.1967 - acc: 0.9356 - val_loss: 0.3197 - val_acc: 0.8854\n",
      "Epoch 8/20\n",
      "25000/25000 [==============================] - 4s 179us/step - loss: 0.1762 - acc: 0.9428 - val_loss: 0.3310 - val_acc: 0.8854\n",
      "Epoch 9/20\n",
      "25000/25000 [==============================] - 4s 179us/step - loss: 0.1710 - acc: 0.9450 - val_loss: 0.3578 - val_acc: 0.8851\n",
      "Epoch 10/20\n",
      "25000/25000 [==============================] - 4s 179us/step - loss: 0.1509 - acc: 0.9512 - val_loss: 0.3766 - val_acc: 0.8838\n",
      "Epoch 11/20\n",
      "25000/25000 [==============================] - 4s 179us/step - loss: 0.1456 - acc: 0.9532 - val_loss: 0.3937 - val_acc: 0.8817\n",
      "Epoch 12/20\n",
      "25000/25000 [==============================] - 4s 179us/step - loss: 0.1378 - acc: 0.9567 - val_loss: 0.4366 - val_acc: 0.8757\n",
      "Epoch 13/20\n",
      "25000/25000 [==============================] - 4s 179us/step - loss: 0.1241 - acc: 0.9600 - val_loss: 0.4524 - val_acc: 0.8784\n",
      "Epoch 14/20\n",
      "25000/25000 [==============================] - 4s 179us/step - loss: 0.1198 - acc: 0.9607 - val_loss: 0.4472 - val_acc: 0.8766\n",
      "Epoch 15/20\n",
      "25000/25000 [==============================] - 4s 179us/step - loss: 0.1144 - acc: 0.9630 - val_loss: 0.4957 - val_acc: 0.8729\n",
      "Epoch 16/20\n",
      "25000/25000 [==============================] - 4s 179us/step - loss: 0.1138 - acc: 0.9644 - val_loss: 0.5153 - val_acc: 0.8760\n",
      "Epoch 17/20\n",
      "25000/25000 [==============================] - 4s 179us/step - loss: 0.1083 - acc: 0.9658 - val_loss: 0.5369 - val_acc: 0.8738\n",
      "Epoch 18/20\n",
      "24064/25000 [===========================>..] - ETA: 0s - loss: 0.1096 - acc: 0.9666"
     ]
    }
   ],
   "source": [
    "dpt_model_hist = dpt_model.fit(x_train, y_train,\n",
    "                               epochs=20,\n",
    "                               batch_size=512,\n",
    "                               validation_data=(x_test, y_test))"
   ]
  },
  {
   "cell_type": "markdown",
   "metadata": {},
   "source": [
    "Czas przedstawić wyniki na wykresie:"
   ]
  },
  {
   "cell_type": "code",
   "execution_count": null,
   "metadata": {
    "scrolled": true
   },
   "outputs": [],
   "source": [
    "dpt_model_val_loss = dpt_model_hist.history['val_loss']\n",
    "\n",
    "plt.plot(epochs, original_val_loss, 'b+', label='Oryginalny model')\n",
    "plt.plot(epochs, dpt_model_val_loss, 'bo', label='Model z regularyzacja dropout')\n",
    "plt.xlabel('Epoki')\n",
    "plt.ylabel('Strata walidacji')\n",
    "plt.legend()\n",
    "\n",
    "plt.show()"
   ]
  },
  {
   "cell_type": "markdown",
   "metadata": {},
   "source": [
    "\n",
    "Ponownie widać poprawę względem sieci referencyjnej.\n",
    "\n",
    "Reasumując, oto najczęściej stosowane techniki mające zapobiec nadmiernemu dopasowaniu sieci neuronowych:\n",
    "\n",
    "* Zdobycie większej ilości danych treningowych.\n",
    "* Redukcja pojemności sieci.\n",
    "* Dodanie regularyzacji wag.\n",
    "* Dodanie mechanizmu porzucania."
   ]
  }
 ],
 "metadata": {
  "kernelspec": {
   "display_name": "Python 3",
   "language": "python",
   "name": "python3"
  },
  "language_info": {
   "codemirror_mode": {
    "name": "ipython",
    "version": 3
   },
   "file_extension": ".py",
   "mimetype": "text/x-python",
   "name": "python",
   "nbconvert_exporter": "python",
   "pygments_lexer": "ipython3",
   "version": "3.7.4"
  }
 },
 "nbformat": 4,
 "nbformat_minor": 2
}
