{
 "cells": [
  {
   "cell_type": "code",
   "execution_count": 1,
   "metadata": {},
   "outputs": [
    {
     "name": "stderr",
     "output_type": "stream",
     "text": [
      "Using TensorFlow backend.\n"
     ]
    }
   ],
   "source": [
    "import keras\n",
    "from keras.models import Sequential\n",
    "from keras.layers import Dense, Activation\n",
    "import numpy as np\n",
    "import matplotlib.pyplot as plt "
   ]
  },
  {
   "cell_type": "code",
   "execution_count": null,
   "metadata": {},
   "outputs": [],
   "source": []
  },
  {
   "cell_type": "code",
   "execution_count": 3,
   "metadata": {},
   "outputs": [],
   "source": [
    " \n",
    "x = data = np.linspace(1,2,200)\n",
    "y = x*4 + np.random.randn(*x.shape) * 0.3"
   ]
  },
  {
   "cell_type": "code",
   "execution_count": 4,
   "metadata": {},
   "outputs": [
    {
     "data": {
      "text/plain": [
       "array([1.        , 1.00502513, 1.01005025, 1.01507538, 1.0201005 ,\n",
       "       1.02512563, 1.03015075, 1.03517588, 1.04020101, 1.04522613,\n",
       "       1.05025126, 1.05527638, 1.06030151, 1.06532663, 1.07035176,\n",
       "       1.07537688, 1.08040201, 1.08542714, 1.09045226, 1.09547739,\n",
       "       1.10050251, 1.10552764, 1.11055276, 1.11557789, 1.12060302,\n",
       "       1.12562814, 1.13065327, 1.13567839, 1.14070352, 1.14572864,\n",
       "       1.15075377, 1.15577889, 1.16080402, 1.16582915, 1.17085427,\n",
       "       1.1758794 , 1.18090452, 1.18592965, 1.19095477, 1.1959799 ,\n",
       "       1.20100503, 1.20603015, 1.21105528, 1.2160804 , 1.22110553,\n",
       "       1.22613065, 1.23115578, 1.2361809 , 1.24120603, 1.24623116,\n",
       "       1.25125628, 1.25628141, 1.26130653, 1.26633166, 1.27135678,\n",
       "       1.27638191, 1.28140704, 1.28643216, 1.29145729, 1.29648241,\n",
       "       1.30150754, 1.30653266, 1.31155779, 1.31658291, 1.32160804,\n",
       "       1.32663317, 1.33165829, 1.33668342, 1.34170854, 1.34673367,\n",
       "       1.35175879, 1.35678392, 1.36180905, 1.36683417, 1.3718593 ,\n",
       "       1.37688442, 1.38190955, 1.38693467, 1.3919598 , 1.39698492,\n",
       "       1.40201005, 1.40703518, 1.4120603 , 1.41708543, 1.42211055,\n",
       "       1.42713568, 1.4321608 , 1.43718593, 1.44221106, 1.44723618,\n",
       "       1.45226131, 1.45728643, 1.46231156, 1.46733668, 1.47236181,\n",
       "       1.47738693, 1.48241206, 1.48743719, 1.49246231, 1.49748744,\n",
       "       1.50251256, 1.50753769, 1.51256281, 1.51758794, 1.52261307,\n",
       "       1.52763819, 1.53266332, 1.53768844, 1.54271357, 1.54773869,\n",
       "       1.55276382, 1.55778894, 1.56281407, 1.5678392 , 1.57286432,\n",
       "       1.57788945, 1.58291457, 1.5879397 , 1.59296482, 1.59798995,\n",
       "       1.60301508, 1.6080402 , 1.61306533, 1.61809045, 1.62311558,\n",
       "       1.6281407 , 1.63316583, 1.63819095, 1.64321608, 1.64824121,\n",
       "       1.65326633, 1.65829146, 1.66331658, 1.66834171, 1.67336683,\n",
       "       1.67839196, 1.68341709, 1.68844221, 1.69346734, 1.69849246,\n",
       "       1.70351759, 1.70854271, 1.71356784, 1.71859296, 1.72361809,\n",
       "       1.72864322, 1.73366834, 1.73869347, 1.74371859, 1.74874372,\n",
       "       1.75376884, 1.75879397, 1.7638191 , 1.76884422, 1.77386935,\n",
       "       1.77889447, 1.7839196 , 1.78894472, 1.79396985, 1.79899497,\n",
       "       1.8040201 , 1.80904523, 1.81407035, 1.81909548, 1.8241206 ,\n",
       "       1.82914573, 1.83417085, 1.83919598, 1.84422111, 1.84924623,\n",
       "       1.85427136, 1.85929648, 1.86432161, 1.86934673, 1.87437186,\n",
       "       1.87939698, 1.88442211, 1.88944724, 1.89447236, 1.89949749,\n",
       "       1.90452261, 1.90954774, 1.91457286, 1.91959799, 1.92462312,\n",
       "       1.92964824, 1.93467337, 1.93969849, 1.94472362, 1.94974874,\n",
       "       1.95477387, 1.95979899, 1.96482412, 1.96984925, 1.97487437,\n",
       "       1.9798995 , 1.98492462, 1.98994975, 1.99497487, 2.        ])"
      ]
     },
     "execution_count": 4,
     "metadata": {},
     "output_type": "execute_result"
    }
   ],
   "source": [
    "x\n"
   ]
  },
  {
   "cell_type": "code",
   "execution_count": 5,
   "metadata": {},
   "outputs": [
    {
     "name": "stdout",
     "output_type": "stream",
     "text": [
      "WARNING:tensorflow:From C:\\Users\\CSComarch\\Anaconda3\\lib\\site-packages\\keras\\backend\\tensorflow_backend.py:74: The name tf.get_default_graph is deprecated. Please use tf.compat.v1.get_default_graph instead.\n",
      "\n",
      "WARNING:tensorflow:From C:\\Users\\CSComarch\\Anaconda3\\lib\\site-packages\\keras\\backend\\tensorflow_backend.py:517: The name tf.placeholder is deprecated. Please use tf.compat.v1.placeholder instead.\n",
      "\n",
      "WARNING:tensorflow:From C:\\Users\\CSComarch\\Anaconda3\\lib\\site-packages\\keras\\backend\\tensorflow_backend.py:4138: The name tf.random_uniform is deprecated. Please use tf.random.uniform instead.\n",
      "\n"
     ]
    }
   ],
   "source": [
    "model = Sequential()\n",
    "model.add(Dense(1, input_dim=1, activation='linear'))"
   ]
  },
  {
   "cell_type": "code",
   "execution_count": 6,
   "metadata": {},
   "outputs": [
    {
     "name": "stdout",
     "output_type": "stream",
     "text": [
      "WARNING:tensorflow:From C:\\Users\\CSComarch\\Anaconda3\\lib\\site-packages\\keras\\optimizers.py:790: The name tf.train.Optimizer is deprecated. Please use tf.compat.v1.train.Optimizer instead.\n",
      "\n",
      "WARNING:tensorflow:From C:\\Users\\CSComarch\\Anaconda3\\lib\\site-packages\\keras\\backend\\tensorflow_backend.py:174: The name tf.get_default_session is deprecated. Please use tf.compat.v1.get_default_session instead.\n",
      "\n",
      "WARNING:tensorflow:From C:\\Users\\CSComarch\\Anaconda3\\lib\\site-packages\\keras\\backend\\tensorflow_backend.py:181: The name tf.ConfigProto is deprecated. Please use tf.compat.v1.ConfigProto instead.\n",
      "\n",
      "WARNING:tensorflow:From C:\\Users\\CSComarch\\Anaconda3\\lib\\site-packages\\keras\\backend\\tensorflow_backend.py:186: The name tf.Session is deprecated. Please use tf.compat.v1.Session instead.\n",
      "\n",
      "WARNING:tensorflow:From C:\\Users\\CSComarch\\Anaconda3\\lib\\site-packages\\keras\\backend\\tensorflow_backend.py:190: The name tf.global_variables is deprecated. Please use tf.compat.v1.global_variables instead.\n",
      "\n",
      "WARNING:tensorflow:From C:\\Users\\CSComarch\\Anaconda3\\lib\\site-packages\\keras\\backend\\tensorflow_backend.py:199: The name tf.is_variable_initialized is deprecated. Please use tf.compat.v1.is_variable_initialized instead.\n",
      "\n",
      "WARNING:tensorflow:From C:\\Users\\CSComarch\\Anaconda3\\lib\\site-packages\\keras\\backend\\tensorflow_backend.py:206: The name tf.variables_initializer is deprecated. Please use tf.compat.v1.variables_initializer instead.\n",
      "\n",
      "Linear regression model is initialized with weights w: 0.68, b: 0.00\n"
     ]
    }
   ],
   "source": [
    "model.compile(optimizer='sgd', loss='mse', metrics=['mse'])\n",
    "\n",
    "weights = model.layers[0].get_weights()\n",
    "w_init = weights[0][0][0]\n",
    "b_init = weights[1][0]\n",
    "print('Linear regression model is initialized with weights w: %.2f, b: %.2f' % (w_init, b_init)) "
   ]
  },
  {
   "cell_type": "code",
   "execution_count": 7,
   "metadata": {},
   "outputs": [
    {
     "name": "stdout",
     "output_type": "stream",
     "text": [
      "WARNING:tensorflow:From C:\\Users\\CSComarch\\Anaconda3\\lib\\site-packages\\keras\\backend\\tensorflow_backend.py:986: The name tf.assign_add is deprecated. Please use tf.compat.v1.assign_add instead.\n",
      "\n",
      "WARNING:tensorflow:From C:\\Users\\CSComarch\\Anaconda3\\lib\\site-packages\\keras\\backend\\tensorflow_backend.py:973: The name tf.assign is deprecated. Please use tf.compat.v1.assign instead.\n",
      "\n",
      "Epoch 1/30\n",
      "200/200 [==============================] - 0s 2ms/step - loss: 0.8988 - mean_squared_error: 0.8988\n",
      "Epoch 2/30\n",
      "200/200 [==============================] - 0s 1ms/step - loss: 0.1827 - mean_squared_error: 0.1827\n",
      "Epoch 3/30\n",
      "200/200 [==============================] - 0s 1ms/step - loss: 0.1770 - mean_squared_error: 0.1770\n",
      "Epoch 4/30\n",
      "200/200 [==============================] - 0s 1ms/step - loss: 0.1719 - mean_squared_error: 0.1719\n",
      "Epoch 5/30\n",
      "200/200 [==============================] - 0s 1ms/step - loss: 0.1671 - mean_squared_error: 0.1671\n",
      "Epoch 6/30\n",
      "200/200 [==============================] - 0s 1ms/step - loss: 0.1628 - mean_squared_error: 0.1628\n",
      "Epoch 7/30\n",
      "200/200 [==============================] - 0s 1ms/step - loss: 0.1588 - mean_squared_error: 0.1588\n",
      "Epoch 8/30\n",
      "200/200 [==============================] - 0s 1ms/step - loss: 0.1552 - mean_squared_error: 0.1552\n",
      "Epoch 9/30\n",
      "200/200 [==============================] - 0s 1ms/step - loss: 0.1518 - mean_squared_error: 0.1518\n",
      "Epoch 10/30\n",
      "200/200 [==============================] - 0s 1ms/step - loss: 0.1487 - mean_squared_error: 0.1487\n",
      "Epoch 11/30\n",
      "200/200 [==============================] - 0s 1ms/step - loss: 0.1459 - mean_squared_error: 0.1459\n",
      "Epoch 12/30\n",
      "200/200 [==============================] - 0s 1ms/step - loss: 0.1433 - mean_squared_error: 0.1433\n",
      "Epoch 13/30\n",
      "200/200 [==============================] - 0s 1ms/step - loss: 0.1410 - mean_squared_error: 0.1410\n",
      "Epoch 14/30\n",
      "200/200 [==============================] - 0s 1ms/step - loss: 0.1388 - mean_squared_error: 0.1388\n",
      "Epoch 15/30\n",
      "200/200 [==============================] - 0s 1ms/step - loss: 0.1368 - mean_squared_error: 0.1368\n",
      "Epoch 16/30\n",
      "200/200 [==============================] - 0s 1ms/step - loss: 0.1350 - mean_squared_error: 0.1350\n",
      "Epoch 17/30\n",
      "200/200 [==============================] - 0s 1ms/step - loss: 0.1333 - mean_squared_error: 0.1333\n",
      "Epoch 18/30\n",
      "200/200 [==============================] - 0s 1ms/step - loss: 0.1318 - mean_squared_error: 0.1318\n",
      "Epoch 19/30\n",
      "200/200 [==============================] - 0s 1ms/step - loss: 0.1304 - mean_squared_error: 0.1304\n",
      "Epoch 20/30\n",
      "200/200 [==============================] - 0s 1ms/step - loss: 0.1291 - mean_squared_error: 0.1291\n",
      "Epoch 21/30\n",
      "200/200 [==============================] - 0s 1ms/step - loss: 0.1279 - mean_squared_error: 0.1279\n",
      "Epoch 22/30\n",
      "200/200 [==============================] - 0s 1ms/step - loss: 0.1268 - mean_squared_error: 0.1268\n",
      "Epoch 23/30\n",
      "200/200 [==============================] - 0s 1ms/step - loss: 0.1258 - mean_squared_error: 0.1258\n",
      "Epoch 24/30\n",
      "200/200 [==============================] - 0s 1ms/step - loss: 0.1249 - mean_squared_error: 0.1249\n",
      "Epoch 25/30\n",
      "200/200 [==============================] - 0s 1ms/step - loss: 0.1241 - mean_squared_error: 0.1241\n",
      "Epoch 26/30\n",
      "200/200 [==============================] - 0s 1ms/step - loss: 0.1234 - mean_squared_error: 0.1234\n",
      "Epoch 27/30\n",
      "200/200 [==============================] - 0s 1ms/step - loss: 0.1227 - mean_squared_error: 0.1227\n",
      "Epoch 28/30\n",
      "200/200 [==============================] - 0s 1ms/step - loss: 0.1220 - mean_squared_error: 0.1220\n",
      "Epoch 29/30\n",
      "200/200 [==============================] - 0s 1ms/step - loss: 0.1215 - mean_squared_error: 0.1215\n",
      "Epoch 30/30\n",
      "200/200 [==============================] - 0s 1ms/step - loss: 0.1209 - mean_squared_error: 0.1209\n",
      "Linear regression model is trained to have weight w: 3.92, b: 0.35\n"
     ]
    }
   ],
   "source": [
    "model.fit(x,y, batch_size=1, epochs=30, shuffle=False)\n",
    "\n",
    "weights = model.layers[0].get_weights()\n",
    "w_final = weights[0][0][0]\n",
    "b_final = weights[1][0]\n",
    "print('Linear regression model is trained to have weight w: %.2f, b: %.2f' % (w_final, b_final))"
   ]
  },
  {
   "cell_type": "code",
   "execution_count": null,
   "metadata": {},
   "outputs": [],
   "source": [
    "predict = model.predict(data)\n",
    "\n",
    "plt.plot(data, predict, 'b', data , y, 'k.')\n",
    "plt.show()"
   ]
  },
  {
   "cell_type": "code",
   "execution_count": null,
   "metadata": {},
   "outputs": [],
   "source": []
  }
 ],
 "metadata": {
  "kernelspec": {
   "display_name": "Python 3",
   "language": "python",
   "name": "python3"
  },
  "language_info": {
   "codemirror_mode": {
    "name": "ipython",
    "version": 3
   },
   "file_extension": ".py",
   "mimetype": "text/x-python",
   "name": "python",
   "nbconvert_exporter": "python",
   "pygments_lexer": "ipython3",
   "version": "3.7.4"
  }
 },
 "nbformat": 4,
 "nbformat_minor": 2
}
